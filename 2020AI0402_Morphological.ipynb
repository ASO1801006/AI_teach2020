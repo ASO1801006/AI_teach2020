{
  "nbformat": 4,
  "nbformat_minor": 0,
  "metadata": {
    "colab": {
      "name": "2020AI0402_Morphological.ipynb",
      "provenance": [],
      "authorship_tag": "ABX9TyMlEiN9Tj9vWzEuR40KOWfn",
      "include_colab_link": true
    },
    "kernelspec": {
      "name": "python3",
      "display_name": "Python 3"
    }
  },
  "cells": [
    {
      "cell_type": "markdown",
      "metadata": {
        "id": "view-in-github",
        "colab_type": "text"
      },
      "source": [
        "<a href=\"https://colab.research.google.com/github/ASO1801006/AI_teach2020/blob/master/2020AI0402_Morphological.ipynb\" target=\"_parent\"><img src=\"https://colab.research.google.com/assets/colab-badge.svg\" alt=\"Open In Colab\"/></a>"
      ]
    },
    {
      "cell_type": "markdown",
      "metadata": {
        "id": "HR7aPB1ohL-M"
      },
      "source": [
        "## 形態素解析（MorphologicalAnalysis）"
      ]
    },
    {
      "cell_type": "markdown",
      "metadata": {
        "id": "mxZelbXwhR54"
      },
      "source": [
        "### 形態素解析ライブラリMeCabのインストール"
      ]
    },
    {
      "cell_type": "code",
      "metadata": {
        "id": "XUwU1eTwJNb6",
        "colab": {
          "base_uri": "https://localhost:8080/"
        },
        "outputId": "ef272ddb-3a66-4daf-b547-09b7b6b04994"
      },
      "source": [
        "# 形態素解析ライブラリMeCabと辞書（meCab-ipadic-NEologd）のインストール\n",
        "!apt-get -q -y install sudo file mecab libmecab-dev mecab-ipadic-utf8 git curl python-mecab > /dev/null\n",
        "!pip install mecab-python3 > /dev/null\n",
        "\n",
        "# MeCabの実行時の指定パスをインストールパスにリンクさせる\n",
        "# シンボリックリンク（/etc/mecabrc を /usr/local/etc/mecabrc で参照できるようにする）\n",
        "!ln -s /etc/mecabrc /usr/local/etc/mecabrc"
      ],
      "execution_count": 7,
      "outputs": [
        {
          "output_type": "stream",
          "text": [
            "ln: failed to create symbolic link '/usr/local/etc/mecabrc': File exists\n"
          ],
          "name": "stdout"
        }
      ]
    },
    {
      "cell_type": "markdown",
      "metadata": {
        "id": "toympl8whYcz"
      },
      "source": [
        "### まずMeCabのデフォルト辞書で文章を解析する"
      ]
    },
    {
      "cell_type": "code",
      "metadata": {
        "colab": {
          "base_uri": "https://localhost:8080/"
        },
        "id": "c0G-szxthXwu",
        "outputId": "b50345fc-e175-4f5f-f801-17325ffccb62"
      },
      "source": [
        "# インストールしたMeCabをimport\n",
        "import MeCab\n",
        "# MeCabオブジェクトの生成（デフォルト辞書で）\n",
        "tagger = MeCab.Tagger()\n",
        "# 形態素解析を実行させる\n",
        "result = tagger.parse(\"メイが恋ダンスを踊っている。\")\n",
        "# 解析結果を表示\n",
        "print( result )"
      ],
      "execution_count": 8,
      "outputs": [
        {
          "output_type": "stream",
          "text": [
            "メイ\t名詞,一般,*,*,*,*,*\n",
            "が\t助詞,格助詞,一般,*,*,*,が,ガ,ガ\n",
            "恋\t名詞,一般,*,*,*,*,恋,コイ,コイ\n",
            "ダンス\t名詞,サ変接続,*,*,*,*,ダンス,ダンス,ダンス\n",
            "を\t助詞,格助詞,一般,*,*,*,を,ヲ,ヲ\n",
            "踊っ\t動詞,自立,*,*,五段・ラ行,連用タ接続,踊る,オドッ,オドッ\n",
            "て\t助詞,接続助詞,*,*,*,*,て,テ,テ\n",
            "いる\t動詞,非自立,*,*,一段,基本形,いる,イル,イル\n",
            "。\t記号,句点,*,*,*,*,。,。,。\n",
            "EOS\n",
            "\n"
          ],
          "name": "stdout"
        }
      ]
    },
    {
      "cell_type": "markdown",
      "metadata": {
        "id": "0UhLR8qFhspK"
      },
      "source": [
        "### 最新の情報が入った辞書（ipadic-neologd）で形態素解析してみる\n"
      ]
    },
    {
      "cell_type": "code",
      "metadata": {
        "colab": {
          "base_uri": "https://localhost:8080/"
        },
        "id": "EKtxdI79hdMJ",
        "outputId": "df87ba8f-58c2-4fa8-a758-59d3235656ed"
      },
      "source": [
        "# github上からipadic-neologdの最新版をダウンロード\n",
        "! git clone --depth 1 https://github.com/neologd/mecab-ipadic-neologd.git > /dev/null\n",
        "# ipadic-neologd のインストール\n",
        "!echo yes | mecab-ipadic-neologd/bin/install-mecab-ipadic-neologd -n > /dev/null 2>&1"
      ],
      "execution_count": 9,
      "outputs": [
        {
          "output_type": "stream",
          "text": [
            "fatal: destination path 'mecab-ipadic-neologd' already exists and is not an empty directory.\n"
          ],
          "name": "stdout"
        }
      ]
    },
    {
      "cell_type": "markdown",
      "metadata": {
        "id": "Ozau2sFqh1zy"
      },
      "source": [
        "### 辞書のインストール済みディレクトリを表示確認"
      ]
    },
    {
      "cell_type": "code",
      "metadata": {
        "colab": {
          "base_uri": "https://localhost:8080/"
        },
        "id": "80oqZfdmhxSI",
        "outputId": "c04ae4e6-3c54-4fff-d82d-d72a47e293ba"
      },
      "source": [
        "# 辞書のインストール済みディレクトリの場所を表示\n",
        "!echo `mecab-config --dicdir`\"/mecab-ipadic-neologd\""
      ],
      "execution_count": 4,
      "outputs": [
        {
          "output_type": "stream",
          "text": [
            "/usr/lib/x86_64-linux-gnu/mecab/dic/mecab-ipadic-neologd\n"
          ],
          "name": "stdout"
        }
      ]
    },
    {
      "cell_type": "markdown",
      "metadata": {
        "id": "hoLW_Em3hz4_"
      },
      "source": [
        "### 辞書（ipadic-neologd）の場所を指定してMeCabで形態素解析"
      ]
    },
    {
      "cell_type": "code",
      "metadata": {
        "colab": {
          "base_uri": "https://localhost:8080/"
        },
        "id": "LrnjF2tQicpi",
        "outputId": "ed51eb8e-11f3-4b21-e5d6-8d681c2fb57f"
      },
      "source": [
        "import MeCab\n",
        "# mecab-ipadic-NEologd辞書を指定して、MeCabオブジェクトの生成\n",
        "path_neologd = \"/usr/lib/x86_64-linux-gnu/mecab/dic/mecab-ipadic-neologd\"\n",
        "tagger = MeCab.Tagger( \"-d \" + path_neologd )\n",
        "# オブジェクトインスタンスで形態素解析を行う\n",
        "result = tagger.parse( \"メイが恋ダンスを踊っている。\" )\n",
        "print( result )"
      ],
      "execution_count": 10,
      "outputs": [
        {
          "output_type": "stream",
          "text": [
            "メイ\t名詞,固有名詞,人名,一般,*,*,M.A.Y,メイ,メイ\n",
            "が\t助詞,格助詞,一般,*,*,*,が,ガ,ガ\n",
            "恋ダンス\t名詞,固有名詞,一般,*,*,*,恋ダンス,コイダンス,コイダンス\n",
            "を\t助詞,格助詞,一般,*,*,*,を,ヲ,ヲ\n",
            "踊っ\t動詞,自立,*,*,五段・ラ行,連用タ接続,踊る,オドッ,オドッ\n",
            "て\t助詞,接続助詞,*,*,*,*,て,テ,テ\n",
            "いる\t動詞,非自立,*,*,一段,基本形,いる,イル,イル\n",
            "。\t記号,句点,*,*,*,*,。,。,。\n",
            "EOS\n",
            "\n"
          ],
          "name": "stdout"
        }
      ]
    },
    {
      "cell_type": "markdown",
      "metadata": {
        "id": "GKSJh9k3ifhj"
      },
      "source": [
        "### 形態素解析結果を品詞分析して名詞、動詞、形容詞だけを抜き出すことでストップワードを除外する"
      ]
    },
    {
      "cell_type": "code",
      "metadata": {
        "colab": {
          "base_uri": "https://localhost:8080/"
        },
        "id": "mCW5RJMrieyx",
        "outputId": "9e17a7ec-a2e0-4f9b-8253-896fc3ef985d"
      },
      "source": [
        "\n",
        "import MeCab\n",
        "# mecab-ipadic-NEologd辞書を指定して、MeCabオブジェクトの生成\n",
        "path_neologd = \"/usr/lib/x86_64-linux-gnu/mecab/dic/mecab-ipadic-neologd\"\n",
        "tagger = MeCab.Tagger( \"-d\" + path_neologd )\n",
        "# 形態素解析して、結果（リスト）を取得\n",
        "node = tagger.parseToNode(\"メイが恋ダンスを踊っている。\")\n",
        "print( node )\n",
        "\n",
        "result = [] # 抽出結果を登録する配列\n",
        "# リストのリンクNextがNoneになるまでループ処理\n",
        "while node is not None:\n",
        "  # 品詞情報取得 node詳細の先頭（品詞情報）だけを抜き出す\n",
        "  hinshi = node.feature.split(\",\")[0]\n",
        "  if hinshi in [\"名詞\"]:\n",
        "    # 名詞だったら、表層系を結果配列 result に追加\n",
        "    result.append( node.surface )\n",
        "  elif hinshi in [\"動詞\", \"形容詞\"]:\n",
        "    # 動詞、形容詞だったら、node形態素情報から原形情報(index6番目)をresult配列に追加\n",
        "    result.append( node.feature.split(\",\")[6] )\n",
        "  # if/elif文終わり\n",
        "  node = node.next\n",
        "# whileループ終わり\n",
        "print( result )"
      ],
      "execution_count": 11,
      "outputs": [
        {
          "output_type": "stream",
          "text": [
            "<Swig Object of type 'MeCab::Node *' at 0x7f657c081fb8>\n",
            "['メイ', '恋ダンス', '踊る', 'いる']\n"
          ],
          "name": "stdout"
        }
      ]
    },
    {
      "cell_type": "code",
      "metadata": {
        "id": "6iuZZl9JikdZ"
      },
      "source": [
        ""
      ],
      "execution_count": null,
      "outputs": []
    }
  ]
}
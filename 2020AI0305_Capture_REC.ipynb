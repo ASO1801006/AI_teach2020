{
  "nbformat": 4,
  "nbformat_minor": 0,
  "metadata": {
    "colab": {
      "name": "2020AI0305-Capture-REC.ipynb",
      "provenance": [],
      "authorship_tag": "ABX9TyMwGUyoEhsvCFYPB0K8E4JB",
      "include_colab_link": true
    },
    "kernelspec": {
      "name": "python3",
      "display_name": "Python 3"
    }
  },
  "cells": [
    {
      "cell_type": "markdown",
      "metadata": {
        "id": "view-in-github",
        "colab_type": "text"
      },
      "source": [
        "<a href=\"https://colab.research.google.com/github/ASO1801006/AI_teach2020/blob/master/2020AI0305_Capture_REC.ipynb\" target=\"_parent\"><img src=\"https://colab.research.google.com/assets/colab-badge.svg\" alt=\"Open In Colab\"/></a>"
      ]
    },
    {
      "cell_type": "markdown",
      "metadata": {
        "id": "mUgDb7f_MfSZ"
      },
      "source": [
        ""
      ]
    },
    {
      "cell_type": "markdown",
      "metadata": {
        "id": "BGC8kZ3aMgiR"
      },
      "source": [
        "### ライブラリのダウロード"
      ]
    },
    {
      "cell_type": "code",
      "metadata": {
        "id": "f6MZiBnFMeKV"
      },
      "source": [
        "import cv2,os\n",
        "import urllib.request as req"
      ],
      "execution_count": null,
      "outputs": []
    },
    {
      "cell_type": "markdown",
      "metadata": {
        "id": "eZduuDdeMey1"
      },
      "source": [
        "### 動画ファイルのダウンロード"
      ]
    },
    {
      "cell_type": "code",
      "metadata": {
        "colab": {
          "base_uri": "https://localhost:8080/"
        },
        "id": "ctpEtGE0M0ks",
        "outputId": "09ff5279-87af-497b-d66d-8ac1373378e6"
      },
      "source": [
        "url =\"https://github.com/masatokg/sample_photo/raw/master/fish.mp4\"\n",
        "save_file = \"fish.mp4\"\n",
        "req.urlretrieve(url, save_file)"
      ],
      "execution_count": null,
      "outputs": [
        {
          "output_type": "execute_result",
          "data": {
            "text/plain": [
              "('fish.mp4', <http.client.HTTPMessage at 0x7fb450c59a20>)"
            ]
          },
          "metadata": {
            "tags": []
          },
          "execution_count": 14
        }
      ]
    },
    {
      "cell_type": "markdown",
      "metadata": {
        "id": "rE3pqnbiNDnI"
      },
      "source": [
        "### キャプチャ処理用の定義"
      ]
    },
    {
      "cell_type": "code",
      "metadata": {
        "id": "zL_TXl-jNIRN"
      },
      "source": [
        "# 保存ファイル名\n",
        "out_file = \"out.mp4\"\n",
        "# キャプチャソースを指定してキャプチャインスタンスを取得\n",
        "# webカメラの場合：0、動画ファイルの場合：ファイルパス\n",
        "cap = cv2.VideoCapture( save_file)\n",
        "fourcc = cv2.VideoWriter_fourcc(\"M\", \"P\", \"4\", \"V\")\n",
        "# フレームレート(fps)を指定\n",
        "fps = 30.0"
      ],
      "execution_count": null,
      "outputs": []
    },
    {
      "cell_type": "markdown",
      "metadata": {
        "id": "9-xbZXAmOSO_"
      },
      "source": [
        "### キャプチャしたフレームの加工処理用関数"
      ]
    },
    {
      "cell_type": "code",
      "metadata": {
        "id": "4v3MEQxzN3B1"
      },
      "source": [
        "# フレームを引数で受け取り、加工して戻り値で返す\n",
        "def process_img( frame ) :\n",
        "  # 加工処理\n",
        "  # BGRのうち、BGを0にしてRの光だけにする\n",
        "  frame[ : , : , 0 ] = 0; #B\n",
        "  frame[ : , : , 1 ] = 0; #G\n",
        "  return frame"
      ],
      "execution_count": null,
      "outputs": []
    },
    {
      "cell_type": "markdown",
      "metadata": {
        "id": "sdjmQnn3P0MV"
      },
      "source": [
        "### フレームを受け取り、そのフレームサイズでキャプチャ画像を録画するためのレコーダーを定義指定戻り値で返す関数"
      ]
    },
    {
      "cell_type": "code",
      "metadata": {
        "id": "-g0P-2B4PzmM"
      },
      "source": [
        "def open_recorder( frame ) :\n",
        "  h = len( frame ) # フレームの高さ(Numpy2次元配列の行数)\n",
        "  w = len( frame[0] ) # フレームの幅(Numpy2次元配列の列数)\n",
        "  size = (w, h) # フレーム画像サイズをダブル変数で定義\n",
        "  # レコーダーのインスタンスを生成\n",
        "  recorder = cv2.VideoWriter( out_file, fourcc, fps, size, isColor=True)\n",
        "  return recorder"
      ],
      "execution_count": null,
      "outputs": []
    },
    {
      "cell_type": "markdown",
      "metadata": {
        "id": "YOww9NGZQ5HX"
      },
      "source": [
        "### キャプチャの読み込み処理を実行"
      ]
    },
    {
      "cell_type": "code",
      "metadata": {
        "id": "M7BuTCicR03V"
      },
      "source": [
        "# フレーム読込\n",
        "is_ok, frame = cap.read()\n",
        "# 成功なら、そのフレームを録画するためのレコーダーを開く\n",
        "if is_ok :\n",
        "  # そのフレームを録画するレコーダーを開く自作関数\n",
        "  recorder = open_recorder( frame )\n",
        "  # 読み込みフレームがなくなるまで無限ループ\n",
        "  while True :\n",
        "    # 読み込んだ1フレームを加工する自作関数\n",
        "    frame = process_img( frame )\n",
        "    # 加工した1フレームをレコーダーに書き込む\n",
        "    recorder.write( frame )\n",
        "    # 次の1フレームを読み込む\n",
        "    is_ok, frame = cap.read()\n",
        "    # 読み込むフレームがなかったら、無限ループをbreak\n",
        "    if is_ok is not True :\n",
        "      break\n",
        "    # if文終了\n",
        "  #while文終了\n",
        "else:\n",
        "  print(\"there is no frame.\")\n",
        "# if文終了\n"
      ],
      "execution_count": null,
      "outputs": []
    },
    {
      "cell_type": "markdown",
      "metadata": {
        "id": "gZBvuxb_VSVy"
      },
      "source": [
        "### 後処理とダウンロード"
      ]
    },
    {
      "cell_type": "code",
      "metadata": {
        "colab": {
          "base_uri": "https://localhost:8080/",
          "height": 51
        },
        "id": "KENw4-7fR5TL",
        "outputId": "a36cacf6-25f3-43a2-e4f0-50fa2acd9a4f"
      },
      "source": [
        "# レコーダーの解放\n",
        "recorder.release()\n",
        "# キャプチャの解放\n",
        "cap.release()\n",
        "# メッセージ\n",
        "print(\"capture and recording end.\")\n",
        "# 出力mp4\n",
        "from google.colab import files\n",
        "files.download( out_file )"
      ],
      "execution_count": null,
      "outputs": [
        {
          "output_type": "stream",
          "text": [
            "capture and recording end.\n"
          ],
          "name": "stdout"
        },
        {
          "output_type": "display_data",
          "data": {
            "application/javascript": [
              "\n",
              "    async function download(id, filename, size) {\n",
              "      if (!google.colab.kernel.accessAllowed) {\n",
              "        return;\n",
              "      }\n",
              "      const div = document.createElement('div');\n",
              "      const label = document.createElement('label');\n",
              "      label.textContent = `Downloading \"${filename}\": `;\n",
              "      div.appendChild(label);\n",
              "      const progress = document.createElement('progress');\n",
              "      progress.max = size;\n",
              "      div.appendChild(progress);\n",
              "      document.body.appendChild(div);\n",
              "\n",
              "      const buffers = [];\n",
              "      let downloaded = 0;\n",
              "\n",
              "      const channel = await google.colab.kernel.comms.open(id);\n",
              "      // Send a message to notify the kernel that we're ready.\n",
              "      channel.send({})\n",
              "\n",
              "      for await (const message of channel.messages) {\n",
              "        // Send a message to notify the kernel that we're ready.\n",
              "        channel.send({})\n",
              "        if (message.buffers) {\n",
              "          for (const buffer of message.buffers) {\n",
              "            buffers.push(buffer);\n",
              "            downloaded += buffer.byteLength;\n",
              "            progress.value = downloaded;\n",
              "          }\n",
              "        }\n",
              "      }\n",
              "      const blob = new Blob(buffers, {type: 'application/binary'});\n",
              "      const a = document.createElement('a');\n",
              "      a.href = window.URL.createObjectURL(blob);\n",
              "      a.download = filename;\n",
              "      div.appendChild(a);\n",
              "      a.click();\n",
              "      div.remove();\n",
              "    }\n",
              "  "
            ],
            "text/plain": [
              "<IPython.core.display.Javascript object>"
            ]
          },
          "metadata": {
            "tags": []
          }
        },
        {
          "output_type": "display_data",
          "data": {
            "application/javascript": [
              "download(\"download_47759f2c-70c2-4280-8159-dd321c7c965a\", \"out.mp4\", 11129646)"
            ],
            "text/plain": [
              "<IPython.core.display.Javascript object>"
            ]
          },
          "metadata": {
            "tags": []
          }
        }
      ]
    },
    {
      "cell_type": "code",
      "metadata": {
        "id": "E0BNxS8qW2uI"
      },
      "source": [
        ""
      ],
      "execution_count": null,
      "outputs": []
    }
  ]
}
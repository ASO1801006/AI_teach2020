{
  "nbformat": 4,
  "nbformat_minor": 0,
  "metadata": {
    "colab": {
      "name": "20201009AI0205-selectAlgo.ipynb",
      "provenance": [],
      "collapsed_sections": [],
      "authorship_tag": "ABX9TyOnPMG1iZUPqnpfbzZavgBZ",
      "include_colab_link": true
    },
    "kernelspec": {
      "name": "python3",
      "display_name": "Python 3"
    }
  },
  "cells": [
    {
      "cell_type": "markdown",
      "metadata": {
        "id": "view-in-github",
        "colab_type": "text"
      },
      "source": [
        "<a href=\"https://colab.research.google.com/github/ASO1801006/AI_teach2020/blob/master/20201009AI0205_selectAlgo.ipynb\" target=\"_parent\"><img src=\"https://colab.research.google.com/assets/colab-badge.svg\" alt=\"Open In Colab\"/></a>"
      ]
    },
    {
      "cell_type": "markdown",
      "metadata": {
        "id": "bVojnC6v5Hx9"
      },
      "source": [
        "### sklearnでエラーがでるので、前のバージョンを入れ直す"
      ]
    },
    {
      "cell_type": "code",
      "metadata": {
        "id": "x6i5Xrwp5f-N"
      },
      "source": [
        "##　現在のscikit-learnをアンインストール\n",
        "#!pip uninstall scikit-learn\n",
        "## 前のバージョンを指定してVMにインストール\n",
        "#!pip install scikit-learn==0.20 --ignore-installed"
      ],
      "execution_count": 2,
      "outputs": []
    },
    {
      "cell_type": "markdown",
      "metadata": {
        "id": "cVs18czcjVg_"
      },
      "source": [
        "### all_estimators()でループして各種のアルゴリズムで学習させ、比較する"
      ]
    },
    {
      "cell_type": "code",
      "metadata": {
        "id": "26_wv00SjS6R",
        "outputId": "b81b884d-20c8-4e9f-dd2e-d13313b3b5c8",
        "colab": {
          "base_uri": "https://localhost:8080/"
        }
      },
      "source": [
        "# ライブラ\n",
        "import pandas as pd\n",
        "# 学習用デーテスト検証用データを分割するライブラリ\n",
        "from sklearn.model_selection import train_test_split\n",
        "# 正解率を算出するライブラリ\n",
        "from sklearn.metrics import accuracy_score\n",
        "# all_estimaors(推定器の全てを利用できるようにする)\n",
        "from sklearn.utils.testing import all_estimators\n",
        "# 警告クラス\n",
        "import warnings"
      ],
      "execution_count": 3,
      "outputs": [
        {
          "output_type": "stream",
          "text": [
            "/usr/local/lib/python3.6/dist-packages/sklearn/utils/deprecation.py:144: FutureWarning: The sklearn.utils.testing module is  deprecated in version 0.22 and will be removed in version 0.24. The corresponding classes / functions should instead be imported from sklearn.utils. Anything that cannot be imported from sklearn.utils is now part of the private API.\n",
            "  warnings.warn(message, FutureWarning)\n"
          ],
          "name": "stderr"
        }
      ]
    },
    {
      "cell_type": "markdown",
      "metadata": {
        "id": "FQicosS6kLrz"
      },
      "source": [
        "### webからアヤメのデータを読み込む"
      ]
    },
    {
      "cell_type": "code",
      "metadata": {
        "id": "1zRl1NamkPgu",
        "outputId": "3b8caeb7-a1f4-45a6-924e-4ddefff23322",
        "colab": {
          "base_uri": "https://localhost:8080/",
          "height": 204
        }
      },
      "source": [
        "# urlリンクから読み込むライブラリ\n",
        "import urllib.request as req\n",
        "#　url用の文字列変数を定義\n",
        "url = \"https://raw.githubusercontent.com/pandas-dev/pandas/master/pandas/tests/io/data/csv/iris.csv\"\n",
        "# リンクから保存するためのファイル名を定義\n",
        "savefile = \"iris.csv\"\n",
        "# requestクラスを使ってurlからデータをsavefileへコピーして保存\n",
        "req.urlretrieve(url, savefile)\n",
        "# pandasのread_csvメソッドを使ってCSVファイルを読み込む\n",
        "iris_data = pd.read_csv(savefile, encoding=\"utf-8\")\n",
        "iris_data.head()"
      ],
      "execution_count": 4,
      "outputs": [
        {
          "output_type": "execute_result",
          "data": {
            "text/html": [
              "<div>\n",
              "<style scoped>\n",
              "    .dataframe tbody tr th:only-of-type {\n",
              "        vertical-align: middle;\n",
              "    }\n",
              "\n",
              "    .dataframe tbody tr th {\n",
              "        vertical-align: top;\n",
              "    }\n",
              "\n",
              "    .dataframe thead th {\n",
              "        text-align: right;\n",
              "    }\n",
              "</style>\n",
              "<table border=\"1\" class=\"dataframe\">\n",
              "  <thead>\n",
              "    <tr style=\"text-align: right;\">\n",
              "      <th></th>\n",
              "      <th>SepalLength</th>\n",
              "      <th>SepalWidth</th>\n",
              "      <th>PetalLength</th>\n",
              "      <th>PetalWidth</th>\n",
              "      <th>Name</th>\n",
              "    </tr>\n",
              "  </thead>\n",
              "  <tbody>\n",
              "    <tr>\n",
              "      <th>0</th>\n",
              "      <td>5.1</td>\n",
              "      <td>3.5</td>\n",
              "      <td>1.4</td>\n",
              "      <td>0.2</td>\n",
              "      <td>Iris-setosa</td>\n",
              "    </tr>\n",
              "    <tr>\n",
              "      <th>1</th>\n",
              "      <td>4.9</td>\n",
              "      <td>3.0</td>\n",
              "      <td>1.4</td>\n",
              "      <td>0.2</td>\n",
              "      <td>Iris-setosa</td>\n",
              "    </tr>\n",
              "    <tr>\n",
              "      <th>2</th>\n",
              "      <td>4.7</td>\n",
              "      <td>3.2</td>\n",
              "      <td>1.3</td>\n",
              "      <td>0.2</td>\n",
              "      <td>Iris-setosa</td>\n",
              "    </tr>\n",
              "    <tr>\n",
              "      <th>3</th>\n",
              "      <td>4.6</td>\n",
              "      <td>3.1</td>\n",
              "      <td>1.5</td>\n",
              "      <td>0.2</td>\n",
              "      <td>Iris-setosa</td>\n",
              "    </tr>\n",
              "    <tr>\n",
              "      <th>4</th>\n",
              "      <td>5.0</td>\n",
              "      <td>3.6</td>\n",
              "      <td>1.4</td>\n",
              "      <td>0.2</td>\n",
              "      <td>Iris-setosa</td>\n",
              "    </tr>\n",
              "  </tbody>\n",
              "</table>\n",
              "</div>"
            ],
            "text/plain": [
              "   SepalLength  SepalWidth  PetalLength  PetalWidth         Name\n",
              "0          5.1         3.5          1.4         0.2  Iris-setosa\n",
              "1          4.9         3.0          1.4         0.2  Iris-setosa\n",
              "2          4.7         3.2          1.3         0.2  Iris-setosa\n",
              "3          4.6         3.1          1.5         0.2  Iris-setosa\n",
              "4          5.0         3.6          1.4         0.2  Iris-setosa"
            ]
          },
          "metadata": {
            "tags": []
          },
          "execution_count": 4
        }
      ]
    },
    {
      "cell_type": "markdown",
      "metadata": {
        "id": "Bcbk2ltYzvH2"
      },
      "source": [
        "### アヤメデータを目的変数:y(ラベル)と説明変数:x(入力データ)に分類する"
      ]
    },
    {
      "cell_type": "code",
      "metadata": {
        "id": "VXekQdEO1PE_",
        "outputId": "863c01bb-acbf-4677-e2aa-bd34d9a4b62b",
        "colab": {
          "base_uri": "https://localhost:8080/"
        }
      },
      "source": [
        "y = iris_data.loc[:,\"Name\"] # 目的変数\n",
        "x = iris_data.loc[:, [\"SepalLength\",\"SepalWidth\",\"PetalLength\",\"PetalWidth\"]] # 説明変数\n",
        "\n",
        "print(y.head())\n",
        "print(x.head())"
      ],
      "execution_count": 5,
      "outputs": [
        {
          "output_type": "stream",
          "text": [
            "0    Iris-setosa\n",
            "1    Iris-setosa\n",
            "2    Iris-setosa\n",
            "3    Iris-setosa\n",
            "4    Iris-setosa\n",
            "Name: Name, dtype: object\n",
            "   SepalLength  SepalWidth  PetalLength  PetalWidth\n",
            "0          5.1         3.5          1.4         0.2\n",
            "1          4.9         3.0          1.4         0.2\n",
            "2          4.7         3.2          1.3         0.2\n",
            "3          4.6         3.1          1.5         0.2\n",
            "4          5.0         3.6          1.4         0.2\n"
          ],
          "name": "stdout"
        }
      ]
    },
    {
      "cell_type": "markdown",
      "metadata": {
        "id": "U5Xe0VxH1zPm"
      },
      "source": [
        "### アヤメデータをさらに学習用とテスト検証用に分類する"
      ]
    },
    {
      "cell_type": "code",
      "metadata": {
        "id": "Z5-WmnPd15Im",
        "outputId": "fed18d99-9f5e-4f9b-f1a0-43cff2c9c5f1",
        "colab": {
          "base_uri": "https://localhost:8080/"
        }
      },
      "source": [
        "# 学習データ(train)とテスト検証用(test)に分類\n",
        "x_train, x_test, y_train, y_test = train_test_split(x, y, test_size=0.2, train_size=0.8, shuffle=True)\n",
        "print(x_train)\n",
        "print(x_test)\n",
        "print(y_train)\n",
        "print(y_test)"
      ],
      "execution_count": 6,
      "outputs": [
        {
          "output_type": "stream",
          "text": [
            "     SepalLength  SepalWidth  PetalLength  PetalWidth\n",
            "127          6.1         3.0          4.9         1.8\n",
            "74           6.4         2.9          4.3         1.3\n",
            "22           4.6         3.6          1.0         0.2\n",
            "123          6.3         2.7          4.9         1.8\n",
            "112          6.8         3.0          5.5         2.1\n",
            "..           ...         ...          ...         ...\n",
            "93           5.0         2.3          3.3         1.0\n",
            "108          6.7         2.5          5.8         1.8\n",
            "59           5.2         2.7          3.9         1.4\n",
            "144          6.7         3.3          5.7         2.5\n",
            "85           6.0         3.4          4.5         1.6\n",
            "\n",
            "[120 rows x 4 columns]\n",
            "     SepalLength  SepalWidth  PetalLength  PetalWidth\n",
            "111          6.4         2.7          5.3         1.9\n",
            "100          6.3         3.3          6.0         2.5\n",
            "70           5.9         3.2          4.8         1.8\n",
            "41           4.5         2.3          1.3         0.3\n",
            "63           6.1         2.9          4.7         1.4\n",
            "87           6.3         2.3          4.4         1.3\n",
            "16           5.4         3.9          1.3         0.4\n",
            "120          6.9         3.2          5.7         2.3\n",
            "119          6.0         2.2          5.0         1.5\n",
            "4            5.0         3.6          1.4         0.2\n",
            "134          6.1         2.6          5.6         1.4\n",
            "118          7.7         2.6          6.9         2.3\n",
            "34           4.9         3.1          1.5         0.1\n",
            "117          7.7         3.8          6.7         2.2\n",
            "26           5.0         3.4          1.6         0.4\n",
            "90           5.5         2.6          4.4         1.2\n",
            "131          7.9         3.8          6.4         2.0\n",
            "32           5.2         4.1          1.5         0.1\n",
            "105          7.6         3.0          6.6         2.1\n",
            "80           5.5         2.4          3.8         1.1\n",
            "83           6.0         2.7          5.1         1.6\n",
            "115          6.4         3.2          5.3         2.3\n",
            "47           4.6         3.2          1.4         0.2\n",
            "31           5.4         3.4          1.5         0.4\n",
            "71           6.1         2.8          4.0         1.3\n",
            "109          7.2         3.6          6.1         2.5\n",
            "44           5.1         3.8          1.9         0.4\n",
            "69           5.6         2.5          3.9         1.1\n",
            "67           5.8         2.7          4.1         1.0\n",
            "40           5.0         3.5          1.3         0.3\n",
            "127     Iris-virginica\n",
            "74     Iris-versicolor\n",
            "22         Iris-setosa\n",
            "123     Iris-virginica\n",
            "112     Iris-virginica\n",
            "            ...       \n",
            "93     Iris-versicolor\n",
            "108     Iris-virginica\n",
            "59     Iris-versicolor\n",
            "144     Iris-virginica\n",
            "85     Iris-versicolor\n",
            "Name: Name, Length: 120, dtype: object\n",
            "111     Iris-virginica\n",
            "100     Iris-virginica\n",
            "70     Iris-versicolor\n",
            "41         Iris-setosa\n",
            "63     Iris-versicolor\n",
            "87     Iris-versicolor\n",
            "16         Iris-setosa\n",
            "120     Iris-virginica\n",
            "119     Iris-virginica\n",
            "4          Iris-setosa\n",
            "134     Iris-virginica\n",
            "118     Iris-virginica\n",
            "34         Iris-setosa\n",
            "117     Iris-virginica\n",
            "26         Iris-setosa\n",
            "90     Iris-versicolor\n",
            "131     Iris-virginica\n",
            "32         Iris-setosa\n",
            "105     Iris-virginica\n",
            "80     Iris-versicolor\n",
            "83     Iris-versicolor\n",
            "115     Iris-virginica\n",
            "47         Iris-setosa\n",
            "31         Iris-setosa\n",
            "71     Iris-versicolor\n",
            "109     Iris-virginica\n",
            "44         Iris-setosa\n",
            "69     Iris-versicolor\n",
            "67     Iris-versicolor\n",
            "40         Iris-setosa\n",
            "Name: Name, dtype: object\n"
          ],
          "name": "stdout"
        }
      ]
    },
    {
      "cell_type": "markdown",
      "metadata": {
        "id": "pYFRrziD2jat"
      },
      "source": [
        "### allAlgorithmsにclassifierを指定して「分類」でフィルターしたアルゴリズムの推定器群を取得する"
      ]
    },
    {
      "cell_type": "code",
      "metadata": {
        "id": "Mr5vs-s02zhr",
        "outputId": "ca6941f1-c3c9-4d55-e499-657007f76eec",
        "colab": {
          "base_uri": "https://localhost:8080/"
        }
      },
      "source": [
        "# 推定器のリストをフィルター指定して取得\n",
        "allAlgorithms = all_estimators(type_filter=\"classifier\")\n",
        "# ワーニングを無視する\n",
        "warnings.filterwarnings(\"ignore\")"
      ],
      "execution_count": 7,
      "outputs": [
        {
          "output_type": "stream",
          "text": [
            "/usr/local/lib/python3.6/dist-packages/sklearn/externals/joblib/__init__.py:15: FutureWarning: sklearn.externals.joblib is deprecated in 0.21 and will be removed in 0.23. Please import this functionality directly from joblib, which can be installed with: pip install joblib. If this warning is raised when loading pickled models, you may need to re-serialize those models with scikit-learn 0.21+.\n",
            "  warnings.warn(msg, category=FutureWarning)\n"
          ],
          "name": "stderr"
        }
      ]
    },
    {
      "cell_type": "markdown",
      "metadata": {
        "id": "48lof55-3Qq8"
      },
      "source": [
        "##＃ 推定器のリストをループしながら学習&推論させる"
      ]
    },
    {
      "cell_type": "code",
      "metadata": {
        "id": "GSEixAI03Xv4",
        "outputId": "c9d9ac6d-a4ec-4c16-b309-0f3af6a3a212",
        "colab": {
          "base_uri": "https://localhost:8080/"
        }
      },
      "source": [
        "# 推定器のリストをループ\n",
        "for (name, algorithm) in allAlgorithms:\n",
        "\n",
        "# pythonでのtry-catch(try-except)\n",
        "  try: # pythonのtry\n",
        "  # 各アルゴリズムのオブジェクトを生成 \n",
        "    clf = algorithm() # 各アルゴリズムクラスのコンストラクタを実行\n",
        "    #  学習させる(fitメソッド)\n",
        "    clf.fit(x_train, y_train)\n",
        "    # 推論する\n",
        "    y_pred = clf.predict(x_test)\n",
        "    # accuracy_scoreで正解率を算出して表示する\n",
        "    print( name, \"の正解率 = \", accuracy_score(y_test, y_pred))\n",
        "    # tryの終わり\n",
        "    # pythonのcatch(except)\n",
        "  except Exception as e: # pythonのcatch(except)\n",
        "    print(\"¥033[31m\", \"Error: ¥033[0m\", name ,\":\", e.args)\n",
        "  else: \n",
        "    print(\"エラー以外\")\n",
        "    # try-catchの終了\n",
        "  # for文の終了\n",
        "\n",
        "# for文終了\n"
      ],
      "execution_count": 8,
      "outputs": [
        {
          "output_type": "stream",
          "text": [
            "AdaBoostClassifier の正解率 =  0.9\n",
            "エラー以外\n",
            "BaggingClassifier の正解率 =  0.9\n",
            "エラー以外\n",
            "BernoulliNB の正解率 =  0.3\n",
            "エラー以外\n",
            "CalibratedClassifierCV の正解率 =  0.8666666666666667\n",
            "エラー以外\n",
            "CategoricalNB の正解率 =  0.9666666666666667\n",
            "エラー以外\n",
            "¥033[31m Error: ¥033[0m CheckingClassifier : (\"could not convert string to float: 'Iris-virginica'\",)\n",
            "¥033[31m Error: ¥033[0m ClassifierChain : (\"__init__() missing 1 required positional argument: 'base_estimator'\",)\n",
            "ComplementNB の正解率 =  0.7\n",
            "エラー以外\n",
            "DecisionTreeClassifier の正解率 =  0.9\n",
            "エラー以外\n",
            "DummyClassifier の正解率 =  0.3\n",
            "エラー以外\n",
            "ExtraTreeClassifier の正解率 =  0.9333333333333333\n",
            "エラー以外\n",
            "ExtraTreesClassifier の正解率 =  0.9\n",
            "エラー以外\n",
            "GaussianNB の正解率 =  0.8666666666666667\n",
            "エラー以外\n",
            "GaussianProcessClassifier の正解率 =  0.9333333333333333\n",
            "エラー以外\n",
            "GradientBoostingClassifier の正解率 =  0.9\n",
            "エラー以外\n",
            "HistGradientBoostingClassifier の正解率 =  0.9\n",
            "エラー以外\n",
            "KNeighborsClassifier の正解率 =  0.9333333333333333\n",
            "エラー以外\n",
            "LabelPropagation の正解率 =  0.9\n",
            "エラー以外\n",
            "LabelSpreading の正解率 =  0.9\n",
            "エラー以外\n",
            "LinearDiscriminantAnalysis の正解率 =  0.9333333333333333\n",
            "エラー以外\n",
            "LinearSVC の正解率 =  0.9333333333333333\n",
            "エラー以外\n",
            "LogisticRegression の正解率 =  0.9333333333333333\n",
            "エラー以外\n",
            "LogisticRegressionCV の正解率 =  0.9333333333333333\n",
            "エラー以外\n",
            "MLPClassifier の正解率 =  0.9333333333333333\n",
            "エラー以外\n",
            "¥033[31m Error: ¥033[0m MultiOutputClassifier : (\"__init__() missing 1 required positional argument: 'estimator'\",)\n",
            "MultinomialNB の正解率 =  0.9333333333333333\n",
            "エラー以外\n",
            "NearestCentroid の正解率 =  0.9333333333333333\n",
            "エラー以外\n",
            "NuSVC の正解率 =  0.9333333333333333\n",
            "エラー以外\n",
            "¥033[31m Error: ¥033[0m OneVsOneClassifier : (\"__init__() missing 1 required positional argument: 'estimator'\",)\n",
            "¥033[31m Error: ¥033[0m OneVsRestClassifier : (\"__init__() missing 1 required positional argument: 'estimator'\",)\n",
            "¥033[31m Error: ¥033[0m OutputCodeClassifier : (\"__init__() missing 1 required positional argument: 'estimator'\",)\n",
            "PassiveAggressiveClassifier の正解率 =  0.8666666666666667\n",
            "エラー以外\n",
            "Perceptron の正解率 =  0.7\n",
            "エラー以外\n",
            "QuadraticDiscriminantAnalysis の正解率 =  0.9333333333333333\n",
            "エラー以外\n",
            "¥033[31m Error: ¥033[0m RadiusNeighborsClassifier : ('No neighbors found for test samples array([13]), you can try using larger radius, giving a label for outliers, or considering removing them from your dataset.',)\n",
            "RandomForestClassifier の正解率 =  0.9\n",
            "エラー以外\n",
            "RidgeClassifier の正解率 =  0.9\n",
            "エラー以外\n",
            "RidgeClassifierCV の正解率 =  0.9\n",
            "エラー以外\n",
            "SGDClassifier の正解率 =  0.7333333333333333\n",
            "エラー以外\n",
            "SVC の正解率 =  0.9333333333333333\n",
            "エラー以外\n",
            "¥033[31m Error: ¥033[0m StackingClassifier : (\"__init__() missing 1 required positional argument: 'estimators'\",)\n",
            "¥033[31m Error: ¥033[0m VotingClassifier : (\"__init__() missing 1 required positional argument: 'estimators'\",)\n"
          ],
          "name": "stdout"
        }
      ]
    },
    {
      "cell_type": "markdown",
      "metadata": {
        "id": "tMV_m7EHb0M3"
      },
      "source": [
        "### クロスバリデーション"
      ]
    },
    {
      "cell_type": "markdown",
      "metadata": {
        "id": "CluiQYchl8Dk"
      },
      "source": [
        "### クロスバリデーション関連のライブラリのインポート"
      ]
    },
    {
      "cell_type": "code",
      "metadata": {
        "id": "O4dRAQfN9dg-"
      },
      "source": [
        "# ライブラリのインポート\n",
        "# K分割クロスバリデーション(交差検証)のためのライブラリ\n",
        "from sklearn.model_selection import KFold\n",
        "# クロスバリデーションスコア\n",
        "from sklearn.model_selection import cross_val_score\n"
      ],
      "execution_count": 9,
      "outputs": []
    },
    {
      "cell_type": "markdown",
      "metadata": {
        "id": "yKgYGDKkmzsE"
      },
      "source": [
        "### クロスバリデーションを実行する"
      ]
    },
    {
      "cell_type": "code",
      "metadata": {
        "id": "fcP2M-sKm0Aw",
        "outputId": "421a4e9a-ebb9-4ed3-b3c9-0447e8dbdf7a",
        "colab": {
          "base_uri": "https://localhost:8080/"
        }
      },
      "source": [
        "# K分割交差検証のインスタンスを生成する\n",
        "kfold_cv = KFold(n_splits=5, shuffle=True)\n",
        "# 既に生成してあるall_estimatorsのインスタンスをループさせてクロスバリデーションを行う\n",
        "for (name, algorithm) in allAlgorithms:\n",
        "  try:\n",
        "    #　各アルゴリズムのインスタンスを取得\n",
        "    うjk\n",
        "    # scoreの属性がある学習モデルだけに絞る\n",
        "    if hasattr(clf, \"score\"):\n",
        "      # クロスバリデーション(をしてスコアを取得する\n",
        "      score = cross_val_score(clf, x, y, cv=kfold_cv)\n",
        "      # k=n_split=5回分のクロスバリデーションのスコア表示\n",
        "      print(name, \"の正解率 = \")\n",
        "      print(score)\n",
        "      #ifブロック終了\n",
        "    # tryブロック終了\n",
        "  except Exception as e: # 例外処理ブロック\n",
        "    #　何もしない\n",
        "    print(e.args)\n",
        "    # pass"
      ],
      "execution_count": 10,
      "outputs": [
        {
          "output_type": "stream",
          "text": [
            "(\"name 'うjk' is not defined\",)\n",
            "(\"name 'うjk' is not defined\",)\n",
            "(\"name 'うjk' is not defined\",)\n",
            "(\"name 'うjk' is not defined\",)\n",
            "(\"name 'うjk' is not defined\",)\n",
            "(\"name 'うjk' is not defined\",)\n",
            "(\"name 'うjk' is not defined\",)\n",
            "(\"name 'うjk' is not defined\",)\n",
            "(\"name 'うjk' is not defined\",)\n",
            "(\"name 'うjk' is not defined\",)\n",
            "(\"name 'うjk' is not defined\",)\n",
            "(\"name 'うjk' is not defined\",)\n",
            "(\"name 'うjk' is not defined\",)\n",
            "(\"name 'うjk' is not defined\",)\n",
            "(\"name 'うjk' is not defined\",)\n",
            "(\"name 'うjk' is not defined\",)\n",
            "(\"name 'うjk' is not defined\",)\n",
            "(\"name 'うjk' is not defined\",)\n",
            "(\"name 'うjk' is not defined\",)\n",
            "(\"name 'うjk' is not defined\",)\n",
            "(\"name 'うjk' is not defined\",)\n",
            "(\"name 'うjk' is not defined\",)\n",
            "(\"name 'うjk' is not defined\",)\n",
            "(\"name 'うjk' is not defined\",)\n",
            "(\"name 'うjk' is not defined\",)\n",
            "(\"name 'うjk' is not defined\",)\n",
            "(\"name 'うjk' is not defined\",)\n",
            "(\"name 'うjk' is not defined\",)\n",
            "(\"name 'うjk' is not defined\",)\n",
            "(\"name 'うjk' is not defined\",)\n",
            "(\"name 'うjk' is not defined\",)\n",
            "(\"name 'うjk' is not defined\",)\n",
            "(\"name 'うjk' is not defined\",)\n",
            "(\"name 'うjk' is not defined\",)\n",
            "(\"name 'うjk' is not defined\",)\n",
            "(\"name 'うjk' is not defined\",)\n",
            "(\"name 'うjk' is not defined\",)\n",
            "(\"name 'うjk' is not defined\",)\n",
            "(\"name 'うjk' is not defined\",)\n",
            "(\"name 'うjk' is not defined\",)\n",
            "(\"name 'うjk' is not defined\",)\n",
            "(\"name 'うjk' is not defined\",)\n"
          ],
          "name": "stdout"
        }
      ]
    },
    {
      "cell_type": "markdown",
      "metadata": {
        "id": "eMkct26spVQL"
      },
      "source": [
        "### おまけ：cross_val_scoreよりも、もっと詳しい結果を取得できる新しいクロスバリデーションオブジェクト：cross_validate"
      ]
    },
    {
      "cell_type": "code",
      "metadata": {
        "id": "M5d4G0Gmr5sJ"
      },
      "source": [
        "# ライブラリのインポート\n",
        "from sklearn.model_selection import cross_validate"
      ],
      "execution_count": 11,
      "outputs": []
    },
    {
      "cell_type": "markdown",
      "metadata": {
        "id": "WX7Q9O3tsi40"
      },
      "source": [
        "### cross_validateを使ったクロスバリデーション"
      ]
    },
    {
      "cell_type": "code",
      "metadata": {
        "id": "TOmph6lgn2DV",
        "outputId": "39960d8e-f5ed-4fbe-8cd7-60714669452b",
        "colab": {
          "base_uri": "https://localhost:8080/"
        }
      },
      "source": [
        "# K分割交差検証のインスタンスを生成する\n",
        "kfold_cv = KFold(n_splits=5, shuffle=True)\n",
        "# 既に生成してあるall_estimatorsのインスタンスをループさせてクロスバリデーションを行う\n",
        "for (name, algorithm) in allAlgorithms:\n",
        "  try:\n",
        "    #　各アルゴリズムのインスタンスを取得\n",
        "    clf = algorithm()\n",
        "    # scoreの属性がある学習モデルだけに絞る\n",
        "    if hasattr(clf, \"score\"):\n",
        "      # クロスバリデーション(をしてスコアを取得する\n",
        "      score = cross_validate(clf, x, y, cv=kfold_cv)\n",
        "      # k=n_split=5回分のクロスバリデーションのスコア表示\n",
        "      print(name, \"の正解率 = \")\n",
        "      print(score)\n",
        "      #ifブロック終了\n",
        "    # tryブロック終了\n",
        "  except Exception as e: # 例外処理ブロック\n",
        "    #　何もしない\n",
        "    print(e.args)\n",
        "    # pass"
      ],
      "execution_count": 12,
      "outputs": [
        {
          "output_type": "stream",
          "text": [
            "AdaBoostClassifier の正解率 = \n",
            "{'fit_time': array([0.07726955, 0.06584716, 0.06640196, 0.07171893, 0.07701755]), 'score_time': array([0.00726652, 0.00700259, 0.00681639, 0.00822973, 0.01406693]), 'test_score': array([0.9       , 0.96666667, 0.9       , 0.93333333, 1.        ])}\n",
            "BaggingClassifier の正解率 = \n",
            "{'fit_time': array([0.01650238, 0.01516557, 0.0153923 , 0.01527619, 0.01507187]), 'score_time': array([0.0022912 , 0.00226212, 0.00216866, 0.00260329, 0.00215507]), 'test_score': array([0.9       , 1.        , 0.93333333, 0.96666667, 0.96666667])}\n",
            "BernoulliNB の正解率 = \n",
            "{'fit_time': array([0.00312233, 0.00281644, 0.00277328, 0.00291848, 0.00277734]), 'score_time': array([0.00134659, 0.00129032, 0.0014894 , 0.00136638, 0.00159025]), 'test_score': array([0.3       , 0.26666667, 0.26666667, 0.26666667, 0.3       ])}\n",
            "CalibratedClassifierCV の正解率 = \n",
            "{'fit_time': array([0.06416512, 0.07217979, 0.05701137, 0.05794573, 0.05638528]), 'score_time': array([0.002069  , 0.00209093, 0.00181317, 0.00180769, 0.0031004 ]), 'test_score': array([0.93333333, 0.9       , 0.83333333, 0.93333333, 0.86666667])}\n",
            "CategoricalNB の正解率 = \n",
            "{'fit_time': array([0.00414443, 0.00278068, 0.00238967, 0.00239706, 0.00246096]), 'score_time': array([0.00235081, 0.00088549, 0.0009253 , 0.00089025, 0.00092435]), 'test_score': array([0.93333333, 0.93333333, 0.93333333, 0.9       , 0.93333333])}\n",
            "CheckingClassifier の正解率 = \n",
            "{'fit_time': array([0.00075841, 0.00074148, 0.00075436, 0.00073981, 0.00073838]), 'score_time': array([0., 0., 0., 0., 0.]), 'test_score': array([nan, nan, nan, nan, nan])}\n",
            "(\"__init__() missing 1 required positional argument: 'base_estimator'\",)\n",
            "ComplementNB の正解率 = \n",
            "{'fit_time': array([0.00261354, 0.0029254 , 0.00183344, 0.00178671, 0.00178933]), 'score_time': array([0.00134921, 0.00091934, 0.00087953, 0.00085378, 0.0008657 ]), 'test_score': array([0.63333333, 0.66666667, 0.83333333, 0.53333333, 0.66666667])}\n",
            "DecisionTreeClassifier の正解率 = \n",
            "{'fit_time': array([0.0023582 , 0.00141883, 0.00140834, 0.00137901, 0.00141621]), 'score_time': array([0.00086713, 0.00080514, 0.00078773, 0.00080395, 0.0007894 ]), 'test_score': array([0.96666667, 0.96666667, 0.93333333, 0.96666667, 0.9       ])}\n",
            "DummyClassifier の正解率 = \n",
            "{'fit_time': array([0.00097418, 0.00112391, 0.00109601, 0.00099587, 0.0009551 ]), 'score_time': array([0.00055456, 0.00056219, 0.00086856, 0.00069189, 0.00057459]), 'test_score': array([0.2       , 0.33333333, 0.33333333, 0.3       , 0.23333333])}\n",
            "ExtraTreeClassifier の正解率 = \n",
            "{'fit_time': array([0.00220728, 0.00136423, 0.00138044, 0.00133514, 0.00133586]), 'score_time': array([0.0008328 , 0.0007863 , 0.00079012, 0.00079155, 0.00078249]), 'test_score': array([0.9       , 0.93333333, 0.93333333, 0.96666667, 0.83333333])}\n",
            "ExtraTreesClassifier の正解率 = \n",
            "{'fit_time': array([0.09243417, 0.08988118, 0.09824657, 0.08538938, 0.08536339]), 'score_time': array([0.00833797, 0.00817299, 0.0095396 , 0.00821304, 0.0086956 ]), 'test_score': array([1.        , 0.86666667, 0.96666667, 0.96666667, 0.96666667])}\n",
            "GaussianNB の正解率 = \n",
            "{'fit_time': array([0.00236249, 0.00210142, 0.00206923, 0.00157666, 0.0015502 ]), 'score_time': array([0.00136209, 0.00128841, 0.00112176, 0.00089192, 0.00087786]), 'test_score': array([1.        , 0.93333333, 0.96666667, 1.        , 0.9       ])}\n",
            "GaussianProcessClassifier の正解率 = \n",
            "{'fit_time': array([0.03114986, 0.03016353, 0.03002691, 0.03026223, 0.03054285]), 'score_time': array([0.0051136 , 0.00500822, 0.00497508, 0.00506163, 0.00511026]), 'test_score': array([0.96666667, 0.93333333, 0.96666667, 0.93333333, 0.93333333])}\n",
            "GradientBoostingClassifier の正解率 = \n",
            "{'fit_time': array([0.18852162, 0.18926144, 0.17886829, 0.17482924, 0.16809487]), 'score_time': array([0.00166631, 0.00158739, 0.00156164, 0.0016036 , 0.00152636]), 'test_score': array([0.83333333, 1.        , 0.93333333, 0.96666667, 0.96666667])}\n",
            "HistGradientBoostingClassifier の正解率 = \n",
            "{'fit_time': array([0.12171888, 0.13119388, 0.13503957, 0.11962724, 0.12167549]), 'score_time': array([0.00520372, 0.00560832, 0.00545025, 0.00528121, 0.00521851]), 'test_score': array([0.9       , 0.96666667, 0.96666667, 1.        , 0.9       ])}\n",
            "KNeighborsClassifier の正解率 = \n",
            "{'fit_time': array([0.00191832, 0.00165772, 0.00165129, 0.00161123, 0.00161362]), 'score_time': array([0.00260806, 0.00253868, 0.0024662 , 0.0024879 , 0.00249696]), 'test_score': array([1.        , 0.96666667, 0.93333333, 0.9       , 0.86666667])}\n",
            "LabelPropagation の正解率 = \n",
            "{'fit_time': array([0.00270438, 0.00596404, 0.00695133, 0.00666094, 0.00672817]), 'score_time': array([0.00178409, 0.00167346, 0.00182986, 0.00183392, 0.00180721]), 'test_score': array([0.96666667, 1.        , 0.93333333, 1.        , 0.93333333])}\n",
            "LabelSpreading の正解率 = \n",
            "{'fit_time': array([0.00941038, 0.01052809, 0.00918317, 0.00969505, 0.00451088]), 'score_time': array([0.00190806, 0.00190377, 0.00188255, 0.00188828, 0.00183082]), 'test_score': array([0.96666667, 0.96666667, 0.9       , 0.93333333, 1.        ])}\n",
            "LinearDiscriminantAnalysis の正解率 = \n",
            "{'fit_time': array([0.00310636, 0.00989485, 0.00282478, 0.00289536, 0.0101819 ]), 'score_time': array([0.00125885, 0.00120425, 0.00833058, 0.00117111, 0.00120807]), 'test_score': array([0.93333333, 1.        , 0.96666667, 0.96666667, 1.        ])}\n",
            "LinearSVC の正解率 = \n",
            "{'fit_time': array([0.01131177, 0.01438212, 0.01353598, 0.01051307, 0.01054692]), 'score_time': array([0.00131416, 0.00197339, 0.00116587, 0.00120282, 0.00116253]), 'test_score': array([0.93333333, 0.93333333, 0.86666667, 1.        , 0.96666667])}\n",
            "LogisticRegression の正解率 = \n",
            "{'fit_time': array([0.03040385, 0.02576685, 0.02740693, 0.03035069, 0.02593827]), 'score_time': array([0.0012939 , 0.00123453, 0.00126505, 0.00125551, 0.00125575]), 'test_score': array([1.        , 0.93333333, 1.        , 1.        , 0.86666667])}\n",
            "LogisticRegressionCV の正解率 = \n",
            "{'fit_time': array([0.88559127, 0.77516603, 0.75993729, 0.748106  , 0.76487041]), 'score_time': array([0.00131702, 0.00120831, 0.00115156, 0.00112724, 0.00107789]), 'test_score': array([0.93333333, 1.        , 1.        , 1.        , 0.93333333])}\n",
            "MLPClassifier の正解率 = \n",
            "{'fit_time': array([0.12765908, 0.13697529, 0.13170075, 0.1397357 , 0.1255641 ]), 'score_time': array([0.00136113, 0.00131869, 0.00135493, 0.00134969, 0.0013144 ]), 'test_score': array([0.96666667, 1.        , 0.96666667, 0.96666667, 1.        ])}\n",
            "(\"__init__() missing 1 required positional argument: 'estimator'\",)\n",
            "MultinomialNB の正解率 = \n",
            "{'fit_time': array([0.00312138, 0.00255919, 0.0024991 , 0.0017674 , 0.00175834]), 'score_time': array([0.00128269, 0.00108981, 0.00120711, 0.00089622, 0.00087953]), 'test_score': array([0.93333333, 0.93333333, 0.96666667, 0.56666667, 0.53333333])}\n",
            "NearestCentroid の正解率 = \n",
            "{'fit_time': array([0.00164104, 0.0016408 , 0.00161743, 0.00162435, 0.00161433]), 'score_time': array([0.00111318, 0.00110888, 0.00110149, 0.00110078, 0.00109744]), 'test_score': array([0.93333333, 0.9       , 0.96666667, 0.93333333, 0.86666667])}\n",
            "NuSVC の正解率 = \n",
            "{'fit_time': array([0.00274301, 0.00201416, 0.00199533, 0.00200343, 0.00195289]), 'score_time': array([0.00093675, 0.00090218, 0.00088692, 0.00101256, 0.0008955 ]), 'test_score': array([0.93333333, 1.        , 1.        , 0.9       , 1.        ])}\n",
            "(\"__init__() missing 1 required positional argument: 'estimator'\",)\n",
            "(\"__init__() missing 1 required positional argument: 'estimator'\",)\n",
            "(\"__init__() missing 1 required positional argument: 'estimator'\",)\n",
            "PassiveAggressiveClassifier の正解率 = \n",
            "{'fit_time': array([0.00471497, 0.00298166, 0.00287771, 0.00295806, 0.00287986]), 'score_time': array([0.00138116, 0.00084329, 0.00082564, 0.00082302, 0.00081849]), 'test_score': array([0.86666667, 0.76666667, 0.93333333, 0.66666667, 0.8       ])}\n",
            "Perceptron の正解率 = \n",
            "{'fit_time': array([0.00433636, 0.00367665, 0.0029695 , 0.00292921, 0.00297165]), 'score_time': array([0.00125146, 0.00078964, 0.00079656, 0.00081301, 0.00081801]), 'test_score': array([0.96666667, 0.8       , 0.86666667, 1.        , 0.66666667])}\n",
            "QuadraticDiscriminantAnalysis の正解率 = \n",
            "{'fit_time': array([0.00279951, 0.00158811, 0.00158262, 0.00154018, 0.00152969]), 'score_time': array([0.00096107, 0.00100327, 0.00097084, 0.00097084, 0.00104117]), 'test_score': array([0.96666667, 0.96666667, 0.96666667, 1.        , 0.93333333])}\n",
            "RadiusNeighborsClassifier の正解率 = \n",
            "{'fit_time': array([0.00145388, 0.00144076, 0.00139785, 0.00139999, 0.0014174 ]), 'score_time': array([0.00155473, 0.00147939, 0.00142932, 0.00142884, 0.00142288]), 'test_score': array([0.96666667, 0.9       , 0.93333333, 0.96666667, 0.93333333])}\n",
            "RandomForestClassifier の正解率 = \n",
            "{'fit_time': array([0.13665223, 0.11882901, 0.12068272, 0.11966372, 0.13304782]), 'score_time': array([0.0094831 , 0.0098176 , 0.00802255, 0.00817728, 0.00909662]), 'test_score': array([0.93333333, 0.96666667, 0.93333333, 0.96666667, 0.96666667])}\n",
            "RidgeClassifier の正解率 = \n",
            "{'fit_time': array([0.00320172, 0.00280142, 0.00274611, 0.00274873, 0.00268602]), 'score_time': array([0.00092173, 0.00090408, 0.00085306, 0.00084186, 0.00087643]), 'test_score': array([0.86666667, 0.8       , 0.86666667, 0.8       , 0.76666667])}\n",
            "RidgeClassifierCV の正解率 = \n",
            "{'fit_time': array([0.00565004, 0.00305247, 0.00317335, 0.00310826, 0.00299764]), 'score_time': array([0.00094271, 0.00094199, 0.00090718, 0.00091934, 0.00090957]), 'test_score': array([0.8       , 0.83333333, 0.83333333, 0.66666667, 0.9       ])}\n",
            "SGDClassifier の正解率 = \n",
            "{'fit_time': array([0.00446153, 0.00310326, 0.00296211, 0.00310159, 0.00316668]), 'score_time': array([0.00125599, 0.0008502 , 0.00084591, 0.00081182, 0.00082707]), 'test_score': array([0.9       , 0.7       , 0.66666667, 0.83333333, 1.        ])}\n",
            "SVC の正解率 = \n",
            "{'fit_time': array([0.00234246, 0.00165701, 0.00164676, 0.00164557, 0.00163317]), 'score_time': array([0.0010705 , 0.0008955 , 0.00086904, 0.00088263, 0.00085759]), 'test_score': array([0.96666667, 0.96666667, 0.96666667, 0.93333333, 0.96666667])}\n",
            "(\"__init__() missing 1 required positional argument: 'estimators'\",)\n",
            "(\"__init__() missing 1 required positional argument: 'estimators'\",)\n"
          ],
          "name": "stdout"
        }
      ]
    },
    {
      "cell_type": "markdown",
      "metadata": {
        "id": "20257XiWua_b"
      },
      "source": [
        "："
      ]
    },
    {
      "cell_type": "markdown",
      "metadata": {
        "id": "QeEtfiWp7ptk"
      },
      "source": [
        "### グリッドサーチで最適なパラメータを探し求める"
      ]
    },
    {
      "cell_type": "markdown",
      "metadata": {
        "id": "JqKkxvPF7yVk"
      },
      "source": [
        "### ライブラリをimport"
      ]
    },
    {
      "cell_type": "code",
      "metadata": {
        "id": "DuQpjwkY71Tm"
      },
      "source": [
        "# グリッドサーチのオブジェクトクラsうをimport\n",
        "from sklearn.model_selection import GridSearchCV\n",
        "from sklearn.svm import SVC"
      ],
      "execution_count": 13,
      "outputs": []
    },
    {
      "cell_type": "markdown",
      "metadata": {
        "id": "Ox5p4HOe8CxT"
      },
      "source": [
        "### グリッドサーチを実行したパラメータを試す"
      ]
    },
    {
      "cell_type": "code",
      "metadata": {
        "id": "2LJryfQwsnvI",
        "outputId": "61cbdc72-5cea-426e-c139-1b86f017a3a1",
        "colab": {
          "base_uri": "https://localhost:8080/"
        }
      },
      "source": [
        "# グリッドサーチで試すパラメータのパターン指定を定義する\n",
        "parameters = [\n",
        "              # ３つのパラメータ,３パターン\n",
        "              {\"C\":[1, 10, 100, 1000], \"kernel\":[\"linear\"]},\n",
        "              {\"C\":[1, 10, 100, 1000], \"kernel\":[\"rbf\"], \"gamma\":[0.001, 0.0001]},\n",
        "              {\"C\":[1, 10, 100, 1000], \"kernel\":[\"sigmoid\"], \"gamma\":[0.001, 0.0001]},\n",
        "]\n",
        "#　普通の学習\n",
        "clf = SVC()\n",
        "clf.fit(x_train, y_train)\n",
        "y_pred = clf.predict(x_test)\n",
        "print(\"普通の学習の正解率 = \", accuracy_score(y_test, y_pred))\n",
        "\n",
        "# グリッドサーチを行う\n",
        "# K分割交差検証用のインスタンスを生成する\n",
        "kfold_cv = KFold(n_splits=5, shuffle=True)\n",
        "# グリッドサーチの中でK分割交差検証も行われる\n",
        "clf_grid = GridSearchCV(SVC(), parameters, cv=kfold_cv)\n",
        "clf_grid.fit(x_train, y_train) # 学習\n",
        "# 学習済みのモデルに最終的に設定された(最適と思われる)パラメータを表示\n",
        "print(\"最適なパラメーター = \", clf_grid.best_estimator_)\n",
        "\n",
        "#　最適なパラメータ設定済みの学習モデルで評価\n",
        "y_pred = clf_grid.predict(x_test)\n",
        "print(\"グリッドサーチの正解率 = \", accuracy_score(y_test, y_pred))"
      ],
      "execution_count": 14,
      "outputs": [
        {
          "output_type": "stream",
          "text": [
            "普通の学習の正解率 =  0.9333333333333333\n",
            "最適なパラメーター =  SVC(C=1, break_ties=False, cache_size=200, class_weight=None, coef0=0.0,\n",
            "    decision_function_shape='ovr', degree=3, gamma='scale', kernel='linear',\n",
            "    max_iter=-1, probability=False, random_state=None, shrinking=True,\n",
            "    tol=0.001, verbose=False)\n",
            "グリッドサーチの正解率 =  0.9333333333333333\n"
          ],
          "name": "stdout"
        }
      ]
    },
    {
      "cell_type": "markdown",
      "metadata": {
        "id": "P_a3Rku1FTGj"
      },
      "source": [
        "### Numpyの動作確認"
      ]
    },
    {
      "cell_type": "code",
      "metadata": {
        "id": "jRTK9_8a-OAT"
      },
      "source": [
        "# import\n",
        "import numpy as np"
      ],
      "execution_count": 15,
      "outputs": []
    },
    {
      "cell_type": "code",
      "metadata": {
        "id": "lBrxEY1BFabH",
        "outputId": "3794feb1-1f8f-4c22-9a48-938358d5f9bd",
        "colab": {
          "base_uri": "https://localhost:8080/"
        }
      },
      "source": [
        "#　numpy配列の初期化\n",
        "a = np.array([1, 2, 3, 4, 5]) # ndarray配列\n",
        "print(a)\n",
        "# type関数で型を表示\n",
        "print(type(a))"
      ],
      "execution_count": 16,
      "outputs": [
        {
          "output_type": "stream",
          "text": [
            "[1 2 3 4 5]\n",
            "<class 'numpy.ndarray'>\n"
          ],
          "name": "stdout"
        }
      ]
    },
    {
      "cell_type": "code",
      "metadata": {
        "id": "OmJqph9TFxcE",
        "outputId": "35112b26-6a81-4ca5-981c-669b5ef09038",
        "colab": {
          "base_uri": "https://localhost:8080/"
        }
      },
      "source": [
        "# 2次元のndarrayを定義\n",
        "b = np.array([[1, 2, 3],[4, 5, 6]])\n",
        "print(b)"
      ],
      "execution_count": 17,
      "outputs": [
        {
          "output_type": "stream",
          "text": [
            "[[1 2 3]\n",
            " [4 5 6]]\n"
          ],
          "name": "stdout"
        }
      ]
    },
    {
      "cell_type": "code",
      "metadata": {
        "id": "CZps8nwsF-jr",
        "outputId": "3c24f309-0b5f-40d3-9d00-fb7a8add6385",
        "colab": {
          "base_uri": "https://localhost:8080/"
        }
      },
      "source": [
        "# 配列の要素数を指定して０埋めて初期化\n",
        "print(np.zeros(10))\n",
        "print(np.zeros((3, 2)))\n",
        "print(np.ones(2))"
      ],
      "execution_count": 18,
      "outputs": [
        {
          "output_type": "stream",
          "text": [
            "[0. 0. 0. 0. 0. 0. 0. 0. 0. 0.]\n",
            "[[0. 0.]\n",
            " [0. 0.]\n",
            " [0. 0.]]\n",
            "[1. 1.]\n"
          ],
          "name": "stdout"
        }
      ]
    },
    {
      "cell_type": "code",
      "metadata": {
        "id": "VLOO4BAvGghg",
        "outputId": "d5c29ddc-5e99-4134-8a47-b8d87dcfe2a0",
        "colab": {
          "base_uri": "https://localhost:8080/"
        }
      },
      "source": [
        "# 連番の配列を要素数を指定して初期化\n",
        "print(np.arange(5)) # 0から５未満\n",
        "print(np.arange(2, 9)) # 2から9未満\n",
        "print(np.arange(5, 8, 0.5)) #　５から８未満　0.5間隔"
      ],
      "execution_count": 19,
      "outputs": [
        {
          "output_type": "stream",
          "text": [
            "[0 1 2 3 4]\n",
            "[2 3 4 5 6 7 8]\n",
            "[5.  5.5 6.  6.5 7.  7.5]\n"
          ],
          "name": "stdout"
        }
      ]
    },
    {
      "cell_type": "markdown",
      "metadata": {
        "id": "XUvgl6kxHNNY"
      },
      "source": [
        "###　numpyで行列計算"
      ]
    },
    {
      "cell_type": "code",
      "metadata": {
        "id": "Xf_vBwcGHAID",
        "outputId": "dcf106c4-b1cd-4257-b5f7-6234fc33dd72",
        "colab": {
          "base_uri": "https://localhost:8080/"
        }
      },
      "source": [
        "a = np.array([1, 2, 3, 4, 5])\n",
        "b = 2 * a # 全ての要素を一度に2倍\n",
        "print(b)\n",
        "x = np.arange(10)\n",
        "y = 3 * x + 5 # 全ての要素を一度の四則演算\n",
        "print(y)"
      ],
      "execution_count": 20,
      "outputs": [
        {
          "output_type": "stream",
          "text": [
            "[ 2  4  6  8 10]\n",
            "[ 5  8 11 14 17 20 23 26 29 32]\n"
          ],
          "name": "stdout"
        }
      ]
    },
    {
      "cell_type": "code",
      "metadata": {
        "id": "EwA0SI6lHcqu",
        "outputId": "17817623-5738-4cda-bf67-293bc292cc38",
        "colab": {
          "base_uri": "https://localhost:8080/"
        }
      },
      "source": [
        "#　配列の次元数を表示\n",
        "a = np.array([[1, 2, 3],[4, 5, 6]])\n",
        "print(a)\n",
        "print(a.shape)\n",
        "\n",
        "b = np.array([[1, 2, 3],[4, 5, 6],[7, 8, 9]])\n",
        "print(b)\n",
        "print(b.shape)"
      ],
      "execution_count": 21,
      "outputs": [
        {
          "output_type": "stream",
          "text": [
            "[[1 2 3]\n",
            " [4 5 6]]\n",
            "(2, 3)\n",
            "[[1 2 3]\n",
            " [4 5 6]\n",
            " [7 8 9]]\n",
            "(3, 3)\n"
          ],
          "name": "stdout"
        }
      ]
    },
    {
      "cell_type": "code",
      "metadata": {
        "id": "jZtqHhMLH_Yw",
        "outputId": "3eb0d2f1-4432-4f22-e10c-2ba7e33c6eb4",
        "colab": {
          "base_uri": "https://localhost:8080/"
        }
      },
      "source": [
        "# Numpy配列で次元数を変換する\n",
        "a = np.array([[1, 2, 3],[4, 5, 6]])\n",
        "print(\"a=\",a )\n",
        "b = a.flatten()\n",
        "print(\"b=\",b)\n",
        "\n",
        "a = np.array([[1, 2, 3],[4, 5, 6]]) # 2行列\n",
        "print(a)\n",
        "b = a.reshape(3,2) # 3行2列に変換(回転)する\n",
        "print(b)"
      ],
      "execution_count": 22,
      "outputs": [
        {
          "output_type": "stream",
          "text": [
            "a= [[1 2 3]\n",
            " [4 5 6]]\n",
            "b= [1 2 3 4 5 6]\n",
            "[[1 2 3]\n",
            " [4 5 6]]\n",
            "[[1 2]\n",
            " [3 4]\n",
            " [5 6]]\n"
          ],
          "name": "stdout"
        }
      ]
    },
    {
      "cell_type": "markdown",
      "metadata": {
        "id": "nGo2G70oJKYd"
      },
      "source": [
        "### numpyの配列にアクセスする方法"
      ]
    },
    {
      "cell_type": "code",
      "metadata": {
        "id": "RKjmUxEwIka1",
        "outputId": "fadbf58b-1664-4954-dc2c-c6bff2b3bacb",
        "colab": {
          "base_uri": "https://localhost:8080/"
        }
      },
      "source": [
        "v = np.array([[1, 2, 3],[4, 5, 6],[7, 8, 9]])\n",
        "a = v[0]\n",
        "print(a) # 2次元配列の0行目\n",
        "b = v[1:]\n",
        "print(b) # 1行目以降\n",
        "c = v[:, 0]\n",
        "print(c) # 全ての行の0列目"
      ],
      "execution_count": 25,
      "outputs": [
        {
          "output_type": "stream",
          "text": [
            "[1 2 3]\n",
            "[[4 5 6]\n",
            " [7 8 9]]\n",
            "[1 4 7]\n"
          ],
          "name": "stdout"
        }
      ]
    }
  ]
}
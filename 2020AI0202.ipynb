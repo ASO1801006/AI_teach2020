{
  "nbformat": 4,
  "nbformat_minor": 0,
  "metadata": {
    "colab": {
      "name": "2020AI0202.ipynb",
      "provenance": [],
      "authorship_tag": "ABX9TyO5rd0kgyCKrCxC9Bzfr24i",
      "include_colab_link": true
    },
    "kernelspec": {
      "name": "python3",
      "display_name": "Python 3"
    }
  },
  "cells": [
    {
      "cell_type": "markdown",
      "metadata": {
        "id": "view-in-github",
        "colab_type": "text"
      },
      "source": [
        "<a href=\"https://colab.research.google.com/github/ASO1801006/AI_teach2020/blob/master/2020AI0202.ipynb\" target=\"_parent\"><img src=\"https://colab.research.google.com/assets/colab-badge.svg\" alt=\"Open In Colab\"/></a>"
      ]
    },
    {
      "cell_type": "code",
      "metadata": {
        "id": "3pecoUkFMwwg"
      },
      "source": [
        "# uri ライブラリのrequest\n",
        "import urllib.request as req\n",
        "# pandas ライブラリをpdという別名でimport\n",
        "import pandas as pd"
      ],
      "execution_count": 8,
      "outputs": []
    },
    {
      "cell_type": "code",
      "metadata": {
        "id": "I_FdijdzO-x9",
        "outputId": "ad05a8d2-bbe9-469f-981d-6c0ec76f4afb",
        "colab": {
          "base_uri": "https://localhost:8080/",
          "height": 34
        }
      },
      "source": [
        "# urlという名前のオブジェクト変数を定義\n",
        "url = \"https://github.com/pandas-dev/pandas/raw/master/pandas/tests/io/data/csv/iris.csv\"\n",
        "# リンクから保存するためのファイル名を定義\n",
        "savefile = \"iris.csv\"\n",
        "# requestクラスを使ってurlからデータをsavefileへコピー\n",
        "req.urlretrieve(url, savefile)\n",
        "print(\"保存しました\")"
      ],
      "execution_count": 9,
      "outputs": [
        {
          "output_type": "stream",
          "text": [
            "保存しました\n"
          ],
          "name": "stdout"
        }
      ]
    },
    {
      "cell_type": "markdown",
      "metadata": {
        "id": "brDbYWygq0W-"
      },
      "source": [
        "### 保存したcsvファイルをメモリ上に読み込んで画面に表示させる"
      ]
    },
    {
      "cell_type": "code",
      "metadata": {
        "id": "Moa-L5MrPwQR"
      },
      "source": [
        "# pandas の read_csvmwソッドを使ってファイルを読み込む\n",
        "iris_data = pd.read_csv(savefile, encoding = \"utf-8\")"
      ],
      "execution_count": 10,
      "outputs": []
    },
    {
      "cell_type": "code",
      "metadata": {
        "id": "p218GvfIQgV8"
      },
      "source": [
        "from sklearn.model_selection import train_test_split\n",
        "# サポートベクターマシン(SVM)"
      ],
      "execution_count": 11,
      "outputs": []
    },
    {
      "cell_type": "markdown",
      "metadata": {
        "id": "y2rYn_kjrmpB"
      },
      "source": [
        " ### 機械学習のライブラリを読み込む"
      ]
    },
    {
      "cell_type": "code",
      "metadata": {
        "id": "xcyfYV7CrsWm"
      },
      "source": [
        "# 機械学習のデータを学習用とに分けるためのクラス\n",
        "from sklearn.model_selection import train_test_split\n",
        "# サポートベクターマシン(SVC)のSVCアルゴリズムのクラス\n",
        "from sklearn.svm import SVC\n",
        "# テストの評価用クラス\n",
        "from sklearn.metrics import accuracy_score"
      ],
      "execution_count": 12,
      "outputs": []
    },
    {
      "cell_type": "markdown",
      "metadata": {
        "id": "TRrB_UbdsDQS"
      },
      "source": [
        "### アヤメのCSVde-ta を正解"
      ]
    },
    {
      "cell_type": "code",
      "metadata": {
        "id": "x25AVQOnsI2m",
        "outputId": "4057aad6-ce42-43d4-d720-15807bf17c71",
        "colab": {
          "base_uri": "https://localhost:8080/",
          "height": 221
        }
      },
      "source": [
        "# yに右一列( Nameの列)だけ\n",
        "y = iris_data.loc[:,\"Name\"]\n",
        "print(y)"
      ],
      "execution_count": 13,
      "outputs": [
        {
          "output_type": "stream",
          "text": [
            "0         Iris-setosa\n",
            "1         Iris-setosa\n",
            "2         Iris-setosa\n",
            "3         Iris-setosa\n",
            "4         Iris-setosa\n",
            "            ...      \n",
            "145    Iris-virginica\n",
            "146    Iris-virginica\n",
            "147    Iris-virginica\n",
            "148    Iris-virginica\n",
            "149    Iris-virginica\n",
            "Name: Name, Length: 150, dtype: object\n"
          ],
          "name": "stdout"
        }
      ]
    },
    {
      "cell_type": "code",
      "metadata": {
        "id": "dEoKARXpY_eg",
        "outputId": "4081ecd4-42f0-4f89-b526-c51b4f419051",
        "colab": {
          "base_uri": "https://localhost:8080/",
          "height": 255
        }
      },
      "source": [
        "# xに左4列のデータを切り取って代入\n",
        "x = iris_data. loc[ : , [ \"SepalLength\", \"SepalWidth\", \"PetalLength\", \"PetalWidth\" ] ]\n",
        "print(x)"
      ],
      "execution_count": 15,
      "outputs": [
        {
          "output_type": "stream",
          "text": [
            "     SepalLength  SepalWidth  PetalLength  PetalWidth\n",
            "0            5.1         3.5          1.4         0.2\n",
            "1            4.9         3.0          1.4         0.2\n",
            "2            4.7         3.2          1.3         0.2\n",
            "3            4.6         3.1          1.5         0.2\n",
            "4            5.0         3.6          1.4         0.2\n",
            "..           ...         ...          ...         ...\n",
            "145          6.7         3.0          5.2         2.3\n",
            "146          6.3         2.5          5.0         1.9\n",
            "147          6.5         3.0          5.2         2.0\n",
            "148          6.2         3.4          5.4         2.3\n",
            "149          5.9         3.0          5.1         1.8\n",
            "\n",
            "[150 rows x 4 columns]\n"
          ],
          "name": "stdout"
        }
      ]
    },
    {
      "cell_type": "markdown",
      "metadata": {
        "id": "PbxmWT6-ZqVi"
      },
      "source": [
        "### x データも、yデータも、学習用に使うデータと、テスト検証用に使うデータに分けておく"
      ]
    },
    {
      "cell_type": "code",
      "metadata": {
        "id": "KFBY9zKvaGfA"
      },
      "source": [
        "# train_test_splitを使って、xもyも trainデータとtestデータにランダムに分ける(shuffle)\n",
        "# 比率はtest = 0.2、test = 0.8 で x_train、y_train、x_test、y_testという変数に代入する\n",
        "x_train, x_test, y_train, y_test = train_test_split(x, y, test_size=0.2, train_size=0.8, shuffle=True)"
      ],
      "execution_count": 16,
      "outputs": []
    },
    {
      "cell_type": "markdown",
      "metadata": {
        "id": "JllxEhH7uq7b"
      },
      "source": [
        "### Xtrain(学習用入力データ), Ytrain(学習用正解データ)を使ってモデルを学習させる"
      ]
    },
    {
      "cell_type": "code",
      "metadata": {
        "id": "qqwz6usXtdrR"
      },
      "source": [
        "# SVCアルゴリズムの学習モデルのインスタンスを生成\n",
        "clf = SVC()"
      ],
      "execution_count": 18,
      "outputs": []
    },
    {
      "cell_type": "code",
      "metadata": {
        "id": "1idFGf3SvSFi",
        "outputId": "8e768f55-d65c-421d-b8ee-48e0525b83cd",
        "colab": {
          "base_uri": "https://localhost:8080/",
          "height": 85
        }
      },
      "source": [
        "# SVCアルゴリズムの学習モデルに学習用の入力データと正解データを引き渡して学習させる\n",
        "clf.fit(x_train, y_train)"
      ],
      "execution_count": 19,
      "outputs": [
        {
          "output_type": "execute_result",
          "data": {
            "text/plain": [
              "SVC(C=1.0, break_ties=False, cache_size=200, class_weight=None, coef0=0.0,\n",
              "    decision_function_shape='ovr', degree=3, gamma='scale', kernel='rbf',\n",
              "    max_iter=-1, probability=False, random_state=None, shrinking=True,\n",
              "    tol=0.001, verbose=False)"
            ]
          },
          "metadata": {
            "tags": []
          },
          "execution_count": 19
        }
      ]
    },
    {
      "cell_type": "markdown",
      "metadata": {
        "id": "UA_bCGWIwQWe"
      },
      "source": [
        "### 学習がうまくいったかを検証して評価する\n",
        "# x_testデータを使って推論させた結果(y_pred)と本来の正解データ(y_test)を比較して推論がどれくらいの割合正解しているのかを評価する"
      ]
    },
    {
      "cell_type": "code",
      "metadata": {
        "id": "mISERpzOvlTS",
        "outputId": "22dc3a67-54db-4185-91c0-1e180ed94f91",
        "colab": {
          "base_uri": "https://localhost:8080/",
          "height": 34
        }
      },
      "source": [
        "# x_testデータを使って学習モデルclfに推論させる(結果は変数predに代入)\n",
        "y_pred = clf.predict(x_test)\n",
        "# accuracy_scoreでy_predとy_testを比較する\n",
        "print(\"正解率 = \", accuracy_score(y_test, y_pred))"
      ],
      "execution_count": 21,
      "outputs": [
        {
          "output_type": "stream",
          "text": [
            "正解率 =  0.9333333333333333\n"
          ],
          "name": "stdout"
        }
      ]
    }
  ]
}